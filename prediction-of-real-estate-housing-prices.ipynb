{
 "cells": [
  {
   "cell_type": "code",
   "execution_count": 1,
   "id": "69c5d235",
   "metadata": {
    "_cell_guid": "b1076dfc-b9ad-4769-8c92-a6c4dae69d19",
    "_uuid": "8f2839f25d086af736a60e9eeb907d3b93b6e0e5",
    "execution": {
     "iopub.execute_input": "2022-08-01T08:11:58.973660Z",
     "iopub.status.busy": "2022-08-01T08:11:58.973230Z",
     "iopub.status.idle": "2022-08-01T08:11:58.993290Z",
     "shell.execute_reply": "2022-08-01T08:11:58.992143Z"
    },
    "papermill": {
     "duration": 0.029581,
     "end_time": "2022-08-01T08:11:58.996038",
     "exception": false,
     "start_time": "2022-08-01T08:11:58.966457",
     "status": "completed"
    },
    "tags": []
   },
   "outputs": [
    {
     "name": "stdout",
     "output_type": "stream",
     "text": [
      "/kaggle/input/usa-real-estate-dataset/realtor-data.csv\n"
     ]
    }
   ],
   "source": [
    "# This Python 3 environment comes with many helpful analytics libraries installed\n",
    "# It is defined by the kaggle/python Docker image: https://github.com/kaggle/docker-python\n",
    "# For example, here's several helpful packages to load\n",
    "\n",
    "import numpy as np # linear algebra\n",
    "import pandas as pd # data processing, CSV file I/O (e.g. pd.read_csv)\n",
    "\n",
    "# Input data files are available in the read-only \"../input/\" directory\n",
    "# For example, running this (by clicking run or pressing Shift+Enter) will list all files under the input directory\n",
    "\n",
    "import os\n",
    "for dirname, _, filenames in os.walk('/kaggle/input'):\n",
    "    for filename in filenames:\n",
    "        print(os.path.join(dirname, filename))\n",
    "\n",
    "# You can write up to 20GB to the current directory (/kaggle/working/) that gets preserved as output when you create a version using \"Save & Run All\" \n",
    "# You can also write temporary files to /kaggle/temp/, but they won't be saved outside of the current session"
   ]
  },
  {
   "cell_type": "markdown",
   "id": "13d129f0",
   "metadata": {
    "papermill": {
     "duration": 0.003667,
     "end_time": "2022-08-01T08:11:59.004017",
     "exception": false,
     "start_time": "2022-08-01T08:11:59.000350",
     "status": "completed"
    },
    "tags": []
   },
   "source": [
    "# **Import libraries**"
   ]
  },
  {
   "cell_type": "code",
   "execution_count": 2,
   "id": "f97ba6ac",
   "metadata": {
    "execution": {
     "iopub.execute_input": "2022-08-01T08:11:59.014267Z",
     "iopub.status.busy": "2022-08-01T08:11:59.013551Z",
     "iopub.status.idle": "2022-08-01T08:12:01.304381Z",
     "shell.execute_reply": "2022-08-01T08:12:01.303462Z"
    },
    "papermill": {
     "duration": 2.298909,
     "end_time": "2022-08-01T08:12:01.307242",
     "exception": false,
     "start_time": "2022-08-01T08:11:59.008333",
     "status": "completed"
    },
    "tags": []
   },
   "outputs": [],
   "source": [
    "# Import libraries here\n",
    "import matplotlib.pyplot as plt\n",
    "import pandas as pd\n",
    "from sklearn.linear_model import LinearRegression\n",
    "from sklearn.metrics import mean_absolute_error\n",
    "from sklearn.utils.validation import check_is_fitted\n",
    "import plotly.express as px"
   ]
  },
  {
   "cell_type": "markdown",
   "id": "0c66d397",
   "metadata": {
    "papermill": {
     "duration": 0.003857,
     "end_time": "2022-08-01T08:12:01.317667",
     "exception": false,
     "start_time": "2022-08-01T08:12:01.313810",
     "status": "completed"
    },
    "tags": []
   },
   "source": [
    "# **Prepare Data**\n",
    "**Import**"
   ]
  },
  {
   "cell_type": "code",
   "execution_count": 3,
   "id": "76870266",
   "metadata": {
    "execution": {
     "iopub.execute_input": "2022-08-01T08:12:01.327992Z",
     "iopub.status.busy": "2022-08-01T08:12:01.327279Z",
     "iopub.status.idle": "2022-08-01T08:12:01.333651Z",
     "shell.execute_reply": "2022-08-01T08:12:01.332475Z"
    },
    "papermill": {
     "duration": 0.014597,
     "end_time": "2022-08-01T08:12:01.336318",
     "exception": false,
     "start_time": "2022-08-01T08:12:01.321721",
     "status": "completed"
    },
    "tags": []
   },
   "outputs": [],
   "source": [
    "def wrangle(filepath):\n",
    "    \n",
    "    # Read CSV file into dataframe\n",
    "    df = pd.read_csv(filepath)\n",
    "    # Drop columns\n",
    "    df.drop(columns=[\n",
    "        \"full_address\",\n",
    "        \"street\", \n",
    "        \"zip_code\", \n",
    "        \"sold_date\"\n",
    "        ],inplace=True)\n",
    "    \n",
    "    return df"
   ]
  },
  {
   "cell_type": "code",
   "execution_count": 4,
   "id": "46ec6a1a",
   "metadata": {
    "execution": {
     "iopub.execute_input": "2022-08-01T08:12:01.345896Z",
     "iopub.status.busy": "2022-08-01T08:12:01.345539Z",
     "iopub.status.idle": "2022-08-01T08:12:03.917037Z",
     "shell.execute_reply": "2022-08-01T08:12:03.916103Z"
    },
    "papermill": {
     "duration": 2.579496,
     "end_time": "2022-08-01T08:12:03.919915",
     "exception": false,
     "start_time": "2022-08-01T08:12:01.340419",
     "status": "completed"
    },
    "tags": []
   },
   "outputs": [],
   "source": [
    "# Use this cell to test your wrangle function and explore the data\n",
    "df = wrangle(\"../input/usa-real-estate-dataset/realtor-data.csv\")"
   ]
  },
  {
   "cell_type": "code",
   "execution_count": 5,
   "id": "80025fb5",
   "metadata": {
    "execution": {
     "iopub.execute_input": "2022-08-01T08:12:03.930500Z",
     "iopub.status.busy": "2022-08-01T08:12:03.929393Z",
     "iopub.status.idle": "2022-08-01T08:12:03.956665Z",
     "shell.execute_reply": "2022-08-01T08:12:03.955716Z"
    },
    "papermill": {
     "duration": 0.036426,
     "end_time": "2022-08-01T08:12:03.960601",
     "exception": false,
     "start_time": "2022-08-01T08:12:03.924175",
     "status": "completed"
    },
    "tags": []
   },
   "outputs": [
    {
     "name": "stdout",
     "output_type": "stream",
     "text": [
      "df shape:  (733159, 8)\n"
     ]
    },
    {
     "data": {
      "text/html": [
       "<div>\n",
       "<style scoped>\n",
       "    .dataframe tbody tr th:only-of-type {\n",
       "        vertical-align: middle;\n",
       "    }\n",
       "\n",
       "    .dataframe tbody tr th {\n",
       "        vertical-align: top;\n",
       "    }\n",
       "\n",
       "    .dataframe thead th {\n",
       "        text-align: right;\n",
       "    }\n",
       "</style>\n",
       "<table border=\"1\" class=\"dataframe\">\n",
       "  <thead>\n",
       "    <tr style=\"text-align: right;\">\n",
       "      <th></th>\n",
       "      <th>status</th>\n",
       "      <th>price</th>\n",
       "      <th>bed</th>\n",
       "      <th>bath</th>\n",
       "      <th>acre_lot</th>\n",
       "      <th>city</th>\n",
       "      <th>state</th>\n",
       "      <th>house_size</th>\n",
       "    </tr>\n",
       "  </thead>\n",
       "  <tbody>\n",
       "    <tr>\n",
       "      <th>0</th>\n",
       "      <td>for_sale</td>\n",
       "      <td>105000.0</td>\n",
       "      <td>3.0</td>\n",
       "      <td>2.0</td>\n",
       "      <td>0.12</td>\n",
       "      <td>Adjuntas</td>\n",
       "      <td>Puerto Rico</td>\n",
       "      <td>920.0</td>\n",
       "    </tr>\n",
       "    <tr>\n",
       "      <th>1</th>\n",
       "      <td>for_sale</td>\n",
       "      <td>80000.0</td>\n",
       "      <td>4.0</td>\n",
       "      <td>2.0</td>\n",
       "      <td>0.08</td>\n",
       "      <td>Adjuntas</td>\n",
       "      <td>Puerto Rico</td>\n",
       "      <td>1527.0</td>\n",
       "    </tr>\n",
       "    <tr>\n",
       "      <th>2</th>\n",
       "      <td>for_sale</td>\n",
       "      <td>67000.0</td>\n",
       "      <td>2.0</td>\n",
       "      <td>1.0</td>\n",
       "      <td>0.15</td>\n",
       "      <td>Juana Diaz</td>\n",
       "      <td>Puerto Rico</td>\n",
       "      <td>748.0</td>\n",
       "    </tr>\n",
       "    <tr>\n",
       "      <th>3</th>\n",
       "      <td>for_sale</td>\n",
       "      <td>145000.0</td>\n",
       "      <td>4.0</td>\n",
       "      <td>2.0</td>\n",
       "      <td>0.10</td>\n",
       "      <td>Ponce</td>\n",
       "      <td>Puerto Rico</td>\n",
       "      <td>1800.0</td>\n",
       "    </tr>\n",
       "    <tr>\n",
       "      <th>4</th>\n",
       "      <td>for_sale</td>\n",
       "      <td>65000.0</td>\n",
       "      <td>6.0</td>\n",
       "      <td>2.0</td>\n",
       "      <td>0.05</td>\n",
       "      <td>Mayaguez</td>\n",
       "      <td>Puerto Rico</td>\n",
       "      <td>NaN</td>\n",
       "    </tr>\n",
       "    <tr>\n",
       "      <th>5</th>\n",
       "      <td>for_sale</td>\n",
       "      <td>179000.0</td>\n",
       "      <td>4.0</td>\n",
       "      <td>3.0</td>\n",
       "      <td>0.46</td>\n",
       "      <td>San Sebastian</td>\n",
       "      <td>Puerto Rico</td>\n",
       "      <td>2520.0</td>\n",
       "    </tr>\n",
       "    <tr>\n",
       "      <th>6</th>\n",
       "      <td>for_sale</td>\n",
       "      <td>50000.0</td>\n",
       "      <td>3.0</td>\n",
       "      <td>1.0</td>\n",
       "      <td>0.20</td>\n",
       "      <td>Ciales</td>\n",
       "      <td>Puerto Rico</td>\n",
       "      <td>2040.0</td>\n",
       "    </tr>\n",
       "    <tr>\n",
       "      <th>7</th>\n",
       "      <td>for_sale</td>\n",
       "      <td>71600.0</td>\n",
       "      <td>3.0</td>\n",
       "      <td>2.0</td>\n",
       "      <td>0.08</td>\n",
       "      <td>Ponce</td>\n",
       "      <td>Puerto Rico</td>\n",
       "      <td>1050.0</td>\n",
       "    </tr>\n",
       "    <tr>\n",
       "      <th>8</th>\n",
       "      <td>for_sale</td>\n",
       "      <td>100000.0</td>\n",
       "      <td>2.0</td>\n",
       "      <td>1.0</td>\n",
       "      <td>0.09</td>\n",
       "      <td>Ponce</td>\n",
       "      <td>Puerto Rico</td>\n",
       "      <td>1092.0</td>\n",
       "    </tr>\n",
       "    <tr>\n",
       "      <th>9</th>\n",
       "      <td>for_sale</td>\n",
       "      <td>300000.0</td>\n",
       "      <td>5.0</td>\n",
       "      <td>3.0</td>\n",
       "      <td>7.46</td>\n",
       "      <td>Las Marias</td>\n",
       "      <td>Puerto Rico</td>\n",
       "      <td>5403.0</td>\n",
       "    </tr>\n",
       "  </tbody>\n",
       "</table>\n",
       "</div>"
      ],
      "text/plain": [
       "     status     price  bed  bath  acre_lot           city        state  \\\n",
       "0  for_sale  105000.0  3.0   2.0      0.12       Adjuntas  Puerto Rico   \n",
       "1  for_sale   80000.0  4.0   2.0      0.08       Adjuntas  Puerto Rico   \n",
       "2  for_sale   67000.0  2.0   1.0      0.15     Juana Diaz  Puerto Rico   \n",
       "3  for_sale  145000.0  4.0   2.0      0.10          Ponce  Puerto Rico   \n",
       "4  for_sale   65000.0  6.0   2.0      0.05       Mayaguez  Puerto Rico   \n",
       "5  for_sale  179000.0  4.0   3.0      0.46  San Sebastian  Puerto Rico   \n",
       "6  for_sale   50000.0  3.0   1.0      0.20         Ciales  Puerto Rico   \n",
       "7  for_sale   71600.0  3.0   2.0      0.08          Ponce  Puerto Rico   \n",
       "8  for_sale  100000.0  2.0   1.0      0.09          Ponce  Puerto Rico   \n",
       "9  for_sale  300000.0  5.0   3.0      7.46     Las Marias  Puerto Rico   \n",
       "\n",
       "   house_size  \n",
       "0       920.0  \n",
       "1      1527.0  \n",
       "2       748.0  \n",
       "3      1800.0  \n",
       "4         NaN  \n",
       "5      2520.0  \n",
       "6      2040.0  \n",
       "7      1050.0  \n",
       "8      1092.0  \n",
       "9      5403.0  "
      ]
     },
     "execution_count": 5,
     "metadata": {},
     "output_type": "execute_result"
    }
   ],
   "source": [
    "print('df shape: ', df.shape)\n",
    "df.head(10)"
   ]
  },
  {
   "cell_type": "code",
   "execution_count": 6,
   "id": "837418c7",
   "metadata": {
    "execution": {
     "iopub.execute_input": "2022-08-01T08:12:03.971119Z",
     "iopub.status.busy": "2022-08-01T08:12:03.970745Z",
     "iopub.status.idle": "2022-08-01T08:12:03.990585Z",
     "shell.execute_reply": "2022-08-01T08:12:03.989459Z"
    },
    "papermill": {
     "duration": 0.027883,
     "end_time": "2022-08-01T08:12:03.992958",
     "exception": false,
     "start_time": "2022-08-01T08:12:03.965075",
     "status": "completed"
    },
    "tags": []
   },
   "outputs": [
    {
     "data": {
      "text/html": [
       "<div>\n",
       "<style scoped>\n",
       "    .dataframe tbody tr th:only-of-type {\n",
       "        vertical-align: middle;\n",
       "    }\n",
       "\n",
       "    .dataframe tbody tr th {\n",
       "        vertical-align: top;\n",
       "    }\n",
       "\n",
       "    .dataframe thead th {\n",
       "        text-align: right;\n",
       "    }\n",
       "</style>\n",
       "<table border=\"1\" class=\"dataframe\">\n",
       "  <thead>\n",
       "    <tr style=\"text-align: right;\">\n",
       "      <th></th>\n",
       "      <th>status</th>\n",
       "      <th>price</th>\n",
       "      <th>bed</th>\n",
       "      <th>bath</th>\n",
       "      <th>acre_lot</th>\n",
       "      <th>city</th>\n",
       "      <th>state</th>\n",
       "      <th>house_size</th>\n",
       "    </tr>\n",
       "  </thead>\n",
       "  <tbody>\n",
       "    <tr>\n",
       "      <th>0</th>\n",
       "      <td>for_sale</td>\n",
       "      <td>105000.0</td>\n",
       "      <td>3.0</td>\n",
       "      <td>2.0</td>\n",
       "      <td>0.12</td>\n",
       "      <td>Adjuntas</td>\n",
       "      <td>Puerto Rico</td>\n",
       "      <td>920.0</td>\n",
       "    </tr>\n",
       "    <tr>\n",
       "      <th>1</th>\n",
       "      <td>for_sale</td>\n",
       "      <td>80000.0</td>\n",
       "      <td>4.0</td>\n",
       "      <td>2.0</td>\n",
       "      <td>0.08</td>\n",
       "      <td>Adjuntas</td>\n",
       "      <td>Puerto Rico</td>\n",
       "      <td>1527.0</td>\n",
       "    </tr>\n",
       "    <tr>\n",
       "      <th>2</th>\n",
       "      <td>for_sale</td>\n",
       "      <td>67000.0</td>\n",
       "      <td>2.0</td>\n",
       "      <td>1.0</td>\n",
       "      <td>0.15</td>\n",
       "      <td>Juana Diaz</td>\n",
       "      <td>Puerto Rico</td>\n",
       "      <td>748.0</td>\n",
       "    </tr>\n",
       "    <tr>\n",
       "      <th>3</th>\n",
       "      <td>for_sale</td>\n",
       "      <td>145000.0</td>\n",
       "      <td>4.0</td>\n",
       "      <td>2.0</td>\n",
       "      <td>0.10</td>\n",
       "      <td>Ponce</td>\n",
       "      <td>Puerto Rico</td>\n",
       "      <td>1800.0</td>\n",
       "    </tr>\n",
       "    <tr>\n",
       "      <th>4</th>\n",
       "      <td>for_sale</td>\n",
       "      <td>65000.0</td>\n",
       "      <td>6.0</td>\n",
       "      <td>2.0</td>\n",
       "      <td>0.05</td>\n",
       "      <td>Mayaguez</td>\n",
       "      <td>Puerto Rico</td>\n",
       "      <td>NaN</td>\n",
       "    </tr>\n",
       "    <tr>\n",
       "      <th>5</th>\n",
       "      <td>for_sale</td>\n",
       "      <td>179000.0</td>\n",
       "      <td>4.0</td>\n",
       "      <td>3.0</td>\n",
       "      <td>0.46</td>\n",
       "      <td>San Sebastian</td>\n",
       "      <td>Puerto Rico</td>\n",
       "      <td>2520.0</td>\n",
       "    </tr>\n",
       "    <tr>\n",
       "      <th>6</th>\n",
       "      <td>for_sale</td>\n",
       "      <td>50000.0</td>\n",
       "      <td>3.0</td>\n",
       "      <td>1.0</td>\n",
       "      <td>0.20</td>\n",
       "      <td>Ciales</td>\n",
       "      <td>Puerto Rico</td>\n",
       "      <td>2040.0</td>\n",
       "    </tr>\n",
       "    <tr>\n",
       "      <th>7</th>\n",
       "      <td>for_sale</td>\n",
       "      <td>71600.0</td>\n",
       "      <td>3.0</td>\n",
       "      <td>2.0</td>\n",
       "      <td>0.08</td>\n",
       "      <td>Ponce</td>\n",
       "      <td>Puerto Rico</td>\n",
       "      <td>1050.0</td>\n",
       "    </tr>\n",
       "    <tr>\n",
       "      <th>8</th>\n",
       "      <td>for_sale</td>\n",
       "      <td>100000.0</td>\n",
       "      <td>2.0</td>\n",
       "      <td>1.0</td>\n",
       "      <td>0.09</td>\n",
       "      <td>Ponce</td>\n",
       "      <td>Puerto Rico</td>\n",
       "      <td>1092.0</td>\n",
       "    </tr>\n",
       "    <tr>\n",
       "      <th>9</th>\n",
       "      <td>for_sale</td>\n",
       "      <td>300000.0</td>\n",
       "      <td>5.0</td>\n",
       "      <td>3.0</td>\n",
       "      <td>7.46</td>\n",
       "      <td>Las Marias</td>\n",
       "      <td>Puerto Rico</td>\n",
       "      <td>5403.0</td>\n",
       "    </tr>\n",
       "  </tbody>\n",
       "</table>\n",
       "</div>"
      ],
      "text/plain": [
       "     status     price  bed  bath  acre_lot           city        state  \\\n",
       "0  for_sale  105000.0  3.0   2.0      0.12       Adjuntas  Puerto Rico   \n",
       "1  for_sale   80000.0  4.0   2.0      0.08       Adjuntas  Puerto Rico   \n",
       "2  for_sale   67000.0  2.0   1.0      0.15     Juana Diaz  Puerto Rico   \n",
       "3  for_sale  145000.0  4.0   2.0      0.10          Ponce  Puerto Rico   \n",
       "4  for_sale   65000.0  6.0   2.0      0.05       Mayaguez  Puerto Rico   \n",
       "5  for_sale  179000.0  4.0   3.0      0.46  San Sebastian  Puerto Rico   \n",
       "6  for_sale   50000.0  3.0   1.0      0.20         Ciales  Puerto Rico   \n",
       "7  for_sale   71600.0  3.0   2.0      0.08          Ponce  Puerto Rico   \n",
       "8  for_sale  100000.0  2.0   1.0      0.09          Ponce  Puerto Rico   \n",
       "9  for_sale  300000.0  5.0   3.0      7.46     Las Marias  Puerto Rico   \n",
       "\n",
       "   house_size  \n",
       "0       920.0  \n",
       "1      1527.0  \n",
       "2       748.0  \n",
       "3      1800.0  \n",
       "4         NaN  \n",
       "5      2520.0  \n",
       "6      2040.0  \n",
       "7      1050.0  \n",
       "8      1092.0  \n",
       "9      5403.0  "
      ]
     },
     "execution_count": 6,
     "metadata": {},
     "output_type": "execute_result"
    }
   ],
   "source": [
    "df.head(10)"
   ]
  },
  {
   "cell_type": "markdown",
   "id": "c74760f5",
   "metadata": {
    "papermill": {
     "duration": 0.005156,
     "end_time": "2022-08-01T08:12:04.003275",
     "exception": false,
     "start_time": "2022-08-01T08:12:03.998119",
     "status": "completed"
    },
    "tags": []
   },
   "source": [
    "# **Explore**"
   ]
  },
  {
   "cell_type": "code",
   "execution_count": 7,
   "id": "3bdc1913",
   "metadata": {
    "execution": {
     "iopub.execute_input": "2022-08-01T08:12:04.014700Z",
     "iopub.status.busy": "2022-08-01T08:12:04.014066Z",
     "iopub.status.idle": "2022-08-01T08:12:04.279746Z",
     "shell.execute_reply": "2022-08-01T08:12:04.278330Z"
    },
    "papermill": {
     "duration": 0.274187,
     "end_time": "2022-08-01T08:12:04.282240",
     "exception": false,
     "start_time": "2022-08-01T08:12:04.008053",
     "status": "completed"
    },
    "tags": []
   },
   "outputs": [
    {
     "name": "stdout",
     "output_type": "stream",
     "text": [
      "<class 'pandas.core.frame.DataFrame'>\n",
      "RangeIndex: 733159 entries, 0 to 733158\n",
      "Data columns (total 8 columns):\n",
      " #   Column      Non-Null Count   Dtype  \n",
      "---  ------      --------------   -----  \n",
      " 0   status      733159 non-null  object \n",
      " 1   price       733088 non-null  float64\n",
      " 2   bed         617177 non-null  float64\n",
      " 3   bath        621407 non-null  float64\n",
      " 4   acre_lot    572378 non-null  float64\n",
      " 5   city        733087 non-null  object \n",
      " 6   state       733159 non-null  object \n",
      " 7   house_size  520772 non-null  float64\n",
      "dtypes: float64(5), object(3)\n",
      "memory usage: 44.7+ MB\n"
     ]
    }
   ],
   "source": [
    "df.info()"
   ]
  },
  {
   "cell_type": "code",
   "execution_count": 8,
   "id": "9762c92e",
   "metadata": {
    "execution": {
     "iopub.execute_input": "2022-08-01T08:12:04.294658Z",
     "iopub.status.busy": "2022-08-01T08:12:04.293724Z",
     "iopub.status.idle": "2022-08-01T08:12:04.300733Z",
     "shell.execute_reply": "2022-08-01T08:12:04.299526Z"
    },
    "papermill": {
     "duration": 0.015618,
     "end_time": "2022-08-01T08:12:04.302994",
     "exception": false,
     "start_time": "2022-08-01T08:12:04.287376",
     "status": "completed"
    },
    "tags": []
   },
   "outputs": [
    {
     "data": {
      "text/plain": [
       "(733159, 8)"
      ]
     },
     "execution_count": 8,
     "metadata": {},
     "output_type": "execute_result"
    }
   ],
   "source": [
    "df.shape"
   ]
  },
  {
   "cell_type": "markdown",
   "id": "88f4e142",
   "metadata": {
    "papermill": {
     "duration": 0.004716,
     "end_time": "2022-08-01T08:12:04.313024",
     "exception": false,
     "start_time": "2022-08-01T08:12:04.308308",
     "status": "completed"
    },
    "tags": []
   },
   "source": [
    "Check the missing values"
   ]
  },
  {
   "cell_type": "code",
   "execution_count": 9,
   "id": "40085580",
   "metadata": {
    "execution": {
     "iopub.execute_input": "2022-08-01T08:12:04.326240Z",
     "iopub.status.busy": "2022-08-01T08:12:04.324972Z",
     "iopub.status.idle": "2022-08-01T08:12:04.577577Z",
     "shell.execute_reply": "2022-08-01T08:12:04.576522Z"
    },
    "papermill": {
     "duration": 0.261569,
     "end_time": "2022-08-01T08:12:04.580161",
     "exception": false,
     "start_time": "2022-08-01T08:12:04.318592",
     "status": "completed"
    },
    "tags": []
   },
   "outputs": [
    {
     "data": {
      "text/plain": [
       "status             0\n",
       "price             71\n",
       "bed           115982\n",
       "bath          111752\n",
       "acre_lot      160781\n",
       "city              72\n",
       "state              0\n",
       "house_size    212387\n",
       "dtype: int64"
      ]
     },
     "execution_count": 9,
     "metadata": {},
     "output_type": "execute_result"
    }
   ],
   "source": [
    "df.isnull().sum()"
   ]
  }
 ],
 "metadata": {
  "kernelspec": {
   "display_name": "Python 3",
   "language": "python",
   "name": "python3"
  },
  "language_info": {
   "codemirror_mode": {
    "name": "ipython",
    "version": 3
   },
   "file_extension": ".py",
   "mimetype": "text/x-python",
   "name": "python",
   "nbconvert_exporter": "python",
   "pygments_lexer": "ipython3",
   "version": "3.7.12"
  },
  "papermill": {
   "default_parameters": {},
   "duration": 16.241606,
   "end_time": "2022-08-01T08:12:05.407101",
   "environment_variables": {},
   "exception": null,
   "input_path": "__notebook__.ipynb",
   "output_path": "__notebook__.ipynb",
   "parameters": {},
   "start_time": "2022-08-01T08:11:49.165495",
   "version": "2.3.4"
  }
 },
 "nbformat": 4,
 "nbformat_minor": 5
}
